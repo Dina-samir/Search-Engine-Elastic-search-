{
 "cells": [
  {
   "cell_type": "code",
   "execution_count": 1,
   "metadata": {},
   "outputs": [],
   "source": [
    "import pandas as pd\n",
    "from pymongo import MongoClient\n",
    "#Dataset = pd.read_csv('Saved_Dataset.csv')\n",
    "client = MongoClient()\n",
    "database = client.jobs_skills_db\n",
    "db = database.skills\n",
    "#collection.insert_many(Dataset.to_dict('records'))"
   ]
  },
  {
   "cell_type": "code",
   "execution_count": 2,
   "metadata": {},
   "outputs": [
    {
     "name": "stdout",
     "output_type": "stream",
     "text": [
      "                          _id                          title  \\\n",
      "0    5e42e0e19e5a4ea1a6f0d7c8  56050           PHP Developer   \n",
      "1    5e42e0c7573e610ad2545d7d  56050           PHP Developer   \n",
      "2    5e42e0e19e5a4ea1a6f0c8e9    705                     PHP   \n",
      "3    5e42e0c6573e610ad2544e9e    705                     PHP   \n",
      "4    5e42e0e19e5a4ea1a6f0d8c3  70741           PHP Developer   \n",
      "..                        ...    ...                     ...   \n",
      "311  5e42e0c7573e610ad25453e0   2191  Senior UI/UX Developer   \n",
      "312  5e42e0e19e5a4ea1a6f0c9dc    990     Full Stack Engineer   \n",
      "313  5e42e0c6573e610ad2544f92    990     Full Stack Engineer   \n",
      "314  5e42e0e19e5a4ea1a6f0d971  71655             Senior Back   \n",
      "315  5e42e0c7573e610ad2545f27  71655             Senior Back   \n",
      "\n",
      "                                                skills  \n",
      "0    ['full stack', 'oop', 'software development', ...  \n",
      "1    ['full stack', 'oop', 'software development', ...  \n",
      "2    ['full stack', 'linux', 'css3', 'software deve...  \n",
      "3    ['full stack', 'linux', 'css3', 'software deve...  \n",
      "4    ['php development', 'jira', 'postgres', 'cs', ...  \n",
      "..                                                 ...  \n",
      "311  ['adobe indesign', 'software development', 'cs...  \n",
      "312  ['oop', 'css3', 'front-end', 'information syst...  \n",
      "313  ['oop', 'css3', 'front-end', 'information syst...  \n",
      "314  ['sailsjs', 'software development', 'cs', 'nos...  \n",
      "315  ['sailsjs', 'software development', 'cs', 'nos...  \n",
      "\n",
      "[316 rows x 4 columns]\n",
      "316\n"
     ]
    },
    {
     "name": "stderr",
     "output_type": "stream",
     "text": [
      "C:\\Users\\DINA\\Anaconda3\\lib\\site-packages\\ipykernel_launcher.py:2: DeprecationWarning: count is deprecated. Use Collection.count_documents instead.\n",
      "  \n"
     ]
    }
   ],
   "source": [
    "print(pd.DataFrame(list(db.find({\"$text\":{\"$search\":\"php\"}}))))\n",
    "print(db.find({\"$text\":{\"$search\":\"php\"}}).count())"
   ]
  },
  {
   "cell_type": "code",
   "execution_count": 3,
   "metadata": {},
   "outputs": [],
   "source": [
    "#!pip install elasticsearch\n",
    "#connect to our cluster\n",
    "from elasticsearch import Elasticsearch\n",
    "es = Elasticsearch([{'host': 'localhost', 'port': 9200}])"
   ]
  },
  {
   "cell_type": "code",
   "execution_count": 36,
   "metadata": {},
   "outputs": [
    {
     "data": {
      "text/plain": [
       "{'acknowledged': True, 'shards_acknowledged': True, 'index': 'events'}"
      ]
     },
     "execution_count": 36,
     "metadata": {},
     "output_type": "execute_result"
    }
   ],
   "source": [
    "#!pip install elasticsearch\n",
    "#connect to our cluster\n",
    "from elasticsearch import Elasticsearch\n",
    "es = Elasticsearch([{'host': 'localhost', 'port': 9200}])\n",
    "\n",
    "# delete index if exists\n",
    "if es.indices.exists(\"events\"):\n",
    "    es.indices.delete(index=\"events\")\n",
    "\n",
    "# index settings\n",
    "settings = {\n",
    "    \"settings\": {\n",
    "        \"number_of_shards\": 1,\n",
    "        \"number_of_replicas\": 0\n",
    "    },\n",
    "    \"mappings\": {\n",
    "        \"properties\": {\n",
    "            'title': {'type': 'text'},\n",
    "            'skills':{'type': 'text'}\n",
    "            \n",
    "        }\n",
    "    }\n",
    "}\n",
    "# create index\n",
    "es.indices.create(index=\"events\", ignore=400, body=settings)    \n",
    "    "
   ]
  },
  {
   "cell_type": "code",
   "execution_count": null,
   "metadata": {},
   "outputs": [],
   "source": [
    "for doc in db.find():\n",
    "    del doc['_id']\n",
    "    del doc['']\n",
    "    es.index(index='events', body=doc)\n",
    "\n",
    "es.indices.get_mapping(index='events')"
   ]
  },
  {
   "cell_type": "code",
   "execution_count": 82,
   "metadata": {},
   "outputs": [
    {
     "data": {
      "text/plain": [
       "{'events': {'mappings': {'properties': {'skills': {'type': 'text'},\n",
       "    'title': {'type': 'text'}}}}}"
      ]
     },
     "execution_count": 82,
     "metadata": {},
     "output_type": "execute_result"
    }
   ],
   "source": [
    "i=1\n",
    "for doc in db.find().limit(20):\n",
    "    del doc['_id']\n",
    "    del doc['']\n",
    "    es.index(index='events',id=i, body=doc)\n",
    "    i=i+1\n",
    "\n",
    "es.indices.get_mapping(index='events')\n"
   ]
  },
  {
   "cell_type": "code",
   "execution_count": 83,
   "metadata": {},
   "outputs": [
    {
     "data": {
      "text/plain": [
       "{'title': 'Property Consultant',\n",
       " 'skills': \"['sale', 'real estate sale', 'real estate', 'sale target', 'sale skill', 'property sale']\"}"
      ]
     },
     "execution_count": 83,
     "metadata": {},
     "output_type": "execute_result"
    }
   ],
   "source": [
    "res=es.get(index='events',id=9)\n",
    "res['_source']"
   ]
  },
  {
   "cell_type": "code",
   "execution_count": 84,
   "metadata": {},
   "outputs": [
    {
     "name": "stdout",
     "output_type": "stream",
     "text": [
      "{'title': 'Property Consultant', 'skills': \"['sale', 'real estate sale', 'real estate', 'sale target', 'sale skill', 'property sale']\"}\n",
      "{'title': 'Property Consultant', 'skills': \"['sale', 'retail', 'real estate', 'sale target', 'indoor sale', 'sale skill', 'property sale']\"}\n",
      "{'title': 'Property Consultant', 'skills': \"['sale', 'real estate', 'property consultant', 'sale target', 'sale skill']\"}\n",
      "{'title': 'Property Consultant', 'skills': \"['customer support', 'sale', 'property', 'real estate', 'customer service', 'customer care']\"}\n",
      "{'title': 'Sales Consultant', 'skills': \"['sale', 'property advisor', 'real estate', 'sale target', 'sale skill']\"}\n",
      "{'title': 'Property Consultant', 'skills': \"['sale', 'real estate sale', 'real estate', 'sale target', 'indoor sale', 'sale skill', 'property sale']\"}\n",
      "{'title': 'Property Consultant', 'skills': \"['sale', 'retail', 'real estate', 'sale target', 'indoor sale', 'sale skill', 'property sale']\"}\n",
      "{'title': 'Property Consultant', 'skills': \"['customer support', 'sale', 'property', 'real estate', 'customer service', 'customer care']\"}\n",
      "{'title': 'Property Consultant', 'skills': \"['sale', 'real estate sale', 'real estate', 'sale target', 'indoor sale', 'sale skill', 'property sale']\"}\n",
      "{'title': 'Property Consultant', 'skills': \"['sale', 'real estate sale', 'real estate', 'sale target', 'sale skill', 'property sale']\"}\n"
     ]
    }
   ],
   "source": [
    "#filter_path=['hits.hits.title', 'hits.hits.skills']\n",
    "res=es.search(index='events' ,body={\"query\": {\"match\": {\"title\": \"consultant\"}}})\n",
    "for hit in res['hits']['hits']:\n",
    "    print(hit['_source'])"
   ]
  },
  {
   "cell_type": "code",
   "execution_count": 71,
   "metadata": {},
   "outputs": [],
   "source": []
  },
  {
   "cell_type": "code",
   "execution_count": null,
   "metadata": {},
   "outputs": [],
   "source": []
  }
 ],
 "metadata": {
  "kernelspec": {
   "display_name": "Python 3",
   "language": "python",
   "name": "python3"
  },
  "language_info": {
   "codemirror_mode": {
    "name": "ipython",
    "version": 3
   },
   "file_extension": ".py",
   "mimetype": "text/x-python",
   "name": "python",
   "nbconvert_exporter": "python",
   "pygments_lexer": "ipython3",
   "version": "3.6.8"
  }
 },
 "nbformat": 4,
 "nbformat_minor": 2
}
